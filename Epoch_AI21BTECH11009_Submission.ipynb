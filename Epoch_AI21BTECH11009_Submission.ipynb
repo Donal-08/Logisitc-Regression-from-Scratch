{
  "nbformat": 4,
  "nbformat_minor": 0,
  "metadata": {
    "colab": {
      "name": "Epoch_AI21BTECH11009_Submission.ipynb",
      "provenance": [],
      "collapsed_sections": []
    },
    "kernelspec": {
      "name": "python3",
      "display_name": "Python 3"
    },
    "language_info": {
      "name": "python"
    }
  },
  "cells": [
    {
      "cell_type": "code",
      "execution_count": 1,
      "metadata": {
        "id": "tFUy2NnN2Jsc"
      },
      "outputs": [],
      "source": [
        "import numpy as np\n",
        "import pandas as pd\n",
        "import matplotlib.pyplot as plt"
      ]
    },
    {
      "cell_type": "code",
      "source": [
        "df = pd.read_csv(\"wine_dataset.csv\")"
      ],
      "metadata": {
        "id": "AFEEaJqM2fvA"
      },
      "execution_count": 3,
      "outputs": []
    },
    {
      "cell_type": "code",
      "source": [
        "# Data Understanding \n",
        "\n",
        "# 1. Rows and columns \n",
        "print(\"Rows, columns: \" + str(df.shape))\n",
        "\n",
        "# 2. First 5 rows of the wine dataset\n",
        "print(df.head(n=5))\n",
        "\n",
        "\n",
        "# No Missing Values \n",
        "print(df.isna().sum())"
      ],
      "metadata": {
        "colab": {
          "base_uri": "https://localhost:8080/"
        },
        "id": "KDn46o3l2kEW",
        "outputId": "54b019f0-d8ee-4106-aba0-0e9172db57e5"
      },
      "execution_count": 4,
      "outputs": [
        {
          "output_type": "stream",
          "name": "stdout",
          "text": [
            "Rows, columns: (1599, 17)\n",
            "   fixed acidity  volatile acidity  citric acid  residual sugar  chlorides  \\\n",
            "0            7.4              0.70         0.00             1.9      0.076   \n",
            "1            7.8              0.88         0.00             2.6      0.098   \n",
            "2            7.8              0.76         0.04             2.3      0.092   \n",
            "3           11.2              0.28         0.56             1.9      0.075   \n",
            "4            7.4              0.70         0.00             1.9      0.076   \n",
            "\n",
            "   free sulfur dioxide  total sulfur dioxide  density    pH  sulphates  \\\n",
            "0                 11.0                  34.0   0.9978  3.51       0.56   \n",
            "1                 25.0                  67.0   0.9968  3.20       0.68   \n",
            "2                 15.0                  54.0   0.9970  3.26       0.65   \n",
            "3                 17.0                  60.0   0.9980  3.16       0.58   \n",
            "4                 11.0                  34.0   0.9978  3.51       0.56   \n",
            "\n",
            "   alcohol  quality  k_value  l_value  m_value  percentage_free_sulphur  \\\n",
            "0      9.4        0     8.10     4.05    0.636                30.909091   \n",
            "1      9.8        0     8.68     4.34    0.778                26.800000   \n",
            "2      9.8        0     8.56     4.28    0.742                36.000000   \n",
            "3      9.8        1    11.48     5.74    0.655                35.294118   \n",
            "4      9.4        0     8.10     4.05    0.636                30.909091   \n",
            "\n",
            "   n_value  \n",
            "0   0.6080  \n",
            "1   0.8290  \n",
            "2   0.7440  \n",
            "3   0.7195  \n",
            "4   0.6080  \n",
            "fixed acidity              0\n",
            "volatile acidity           0\n",
            "citric acid                0\n",
            "residual sugar             0\n",
            "chlorides                  0\n",
            "free sulfur dioxide        0\n",
            "total sulfur dioxide       0\n",
            "density                    0\n",
            "pH                         0\n",
            "sulphates                  0\n",
            "alcohol                    0\n",
            "quality                    0\n",
            "k_value                    0\n",
            "l_value                    0\n",
            "m_value                    0\n",
            "percentage_free_sulphur    0\n",
            "n_value                    0\n",
            "dtype: int64\n"
          ]
        }
      ]
    },
    {
      "cell_type": "code",
      "source": [
        "# SPLIT ...len(df)=1599 , df.shape[0] = 1599\n",
        "\n",
        "# Return a sample (or samples) from the “standard normal” distribution.\n",
        "df['split'] = np.random.randn(df.shape[0], 1)\n",
        "\n",
        "\n",
        "train_part = np.random.rand(len(df)) <= 0.8     #  randomly selects 80 % of samples for training \n",
        "\n",
        "train = df[train_part]\n",
        "test = df[~train_part]\n",
        "\n",
        "train.to_csv('train.csv',index=False)      \n",
        "test.to_csv('test.csv',index=False) \n",
        "\n",
        "train['quality'].to_csv('y_train.csv',index=False)\n",
        "test['quality'].to_csv('y_test.csv',index=False)"
      ],
      "metadata": {
        "id": "FqdSYYMl2mPx"
      },
      "execution_count": 5,
      "outputs": []
    },
    {
      "cell_type": "code",
      "source": [
        "# STEP 1\n",
        "# lOAD THE DATASET\n",
        "train_X = pd.read_csv(\"train.csv\")\n",
        "train_Y = pd.read_csv(\"y_train.csv\") ##\n",
        "\n",
        "test_X = pd.read_csv(\"test.csv\") ##\n",
        "test_Y = pd.read_csv(\"y_test.csv\")\n",
        "\n",
        "# DROP THE COLUMN  \"quality\" as it is not a parameter\n",
        "\n",
        "train_X = train_X.drop(\"quality\", axis = 1)\n",
        "test_X = test_X.drop(\"quality\", axis = 1)\n"
      ],
      "metadata": {
        "id": "sVxEkLxR2qMk"
      },
      "execution_count": 6,
      "outputs": []
    },
    {
      "cell_type": "code",
      "source": [
        "# covert it into a numpy array\n",
        "\n",
        "train_X = train_X.values\n",
        "train_Y = train_Y.values\n",
        "test_X = test_X.values\n",
        "test_Y = test_Y.values\n",
        "\n",
        "# Reshaping the arrays such that calculation can be done \n",
        "# parameters are taken transpose of \n",
        "# while outputs are reshaped accordingly\n",
        "train_X = train_X.T\n",
        "train_Y = train_Y.reshape(1, train_X.shape[1])\n",
        "\n",
        "test_X = test_X.T\n",
        "test_Y = test_Y.reshape(1, test_X.shape[1])\n",
        "\n",
        "print(\"Shape of X_train : \", train_X.shape)  # 17 x sth\n",
        "print(\"Shape of Y_train : \", train_Y.shape)  # 1 x (sth)\n",
        "print(\"Shape of X_test : \", test_X.shape)     # 17 x (total-sth)\n",
        "print(\"Shape of Y_test : \", test_Y.shape)      # 1 x (total-sth)"
      ],
      "metadata": {
        "colab": {
          "base_uri": "https://localhost:8080/"
        },
        "id": "iPgxE8uK2sQc",
        "outputId": "9452846e-bef6-4e4c-f4c0-00b9bf1ce117"
      },
      "execution_count": 7,
      "outputs": [
        {
          "output_type": "stream",
          "name": "stdout",
          "text": [
            "Shape of X_train :  (17, 1281)\n",
            "Shape of Y_train :  (1, 1281)\n",
            "Shape of X_test :  (17, 318)\n",
            "Shape of Y_test :  (1, 318)\n"
          ]
        }
      ]
    },
    {
      "cell_type": "code",
      "source": [
        "def sigmoid(z):\n",
        "    return 1.0 / (1 + np.exp(-z))"
      ],
      "metadata": {
        "id": "kpTRRoGi2ur7"
      },
      "execution_count": 8,
      "outputs": []
    },
    {
      "cell_type": "code",
      "source": [
        "def cost_function(m,Y,A):\n",
        "    # (error representation) \n",
        "    cost = -(1/m)*np.sum( Y*np.log(A) + (1-Y)*np.log(1-A))\n",
        "    return cost"
      ],
      "metadata": {
        "id": "Ys34Whp_2wUs"
      },
      "execution_count": 9,
      "outputs": []
    },
    {
      "cell_type": "code",
      "source": [
        "def gradient_desc(m,P,X,Y):\n",
        "\n",
        "    # Gradient Descent : Algorithm to minimise cost function\n",
        "    dW = (1/m)*np.dot(P-Y, X.T)   # SHAPE OF (1xn)\n",
        "    dB = (1/m)*np.sum(P - Y)\n",
        "\n",
        "    return dW ,dB"
      ],
      "metadata": {
        "id": "LjjA7xoN2yAR"
      },
      "execution_count": 10,
      "outputs": []
    },
    {
      "cell_type": "code",
      "source": [
        "def model(X, Y, learning_rate, n_iterations):\n",
        "    # m = total number of observations , n = number of features\n",
        "    m, n = train_X.shape[1], train_X.shape[0]\n",
        "    \n",
        "    B = 0\n",
        "    cost_list = []\n",
        "    W = np.zeros((n,1))    # (n x 1) shape -- initialise with 0's (parameter)\n",
        "    \n",
        "    for i in range(n_iterations):  # Training for n_iterations time\n",
        "        \n",
        "        Z = np.dot(W.T, X) + B   \n",
        "        P = sigmoid(Z)               # probabilistic prediction of shape 1 x m\n",
        "                                     # > 0.5 = 1 and < 0.5 = 0\n",
        "        \n",
        "        # cost function \n",
        "        cost = cost_function(m,Y,P)\n",
        "        \n",
        "        # Gradient Descent : Algorithm to minimise cost function\n",
        "        dW , dB = gradient_desc(m,P,X,Y)       # dw is slope\n",
        "        \n",
        "        W = W - learning_rate*dW.T   #  transpose is to match dimensions\n",
        "        B = B - learning_rate*dB     # B = B - αdB\n",
        "        \n",
        "        # Keeping track of our cost function value so as to plot \n",
        "        cost_list.append(cost)\n",
        "        \n",
        "        if(i%(n_iterations/10) == 0):\n",
        "            print(\"cost after \", i, \"iteration is : \", cost)\n",
        "        \n",
        "    return W, B, cost_list"
      ],
      "metadata": {
        "id": "6SqTz-Pq20Sf"
      },
      "execution_count": 11,
      "outputs": []
    },
    {
      "cell_type": "code",
      "source": [
        "n_iterations = 200000\n",
        "learning_rate = 0.0014    # after certain hit and trials this gives a decent accuracy and just fits the train model\n",
        "W, B, cost_list = model(train_X, train_Y, learning_rate = learning_rate, n_iterations = n_iterations)"
      ],
      "metadata": {
        "colab": {
          "base_uri": "https://localhost:8080/"
        },
        "id": "u8WMxzLG22uF",
        "outputId": "8a380b60-636c-4684-df33-39116da2fcab"
      },
      "execution_count": 12,
      "outputs": [
        {
          "output_type": "stream",
          "name": "stdout",
          "text": [
            "cost after  0 iteration is :  0.6931471805599454\n",
            "cost after  20000 iteration is :  0.5678061546835561\n",
            "cost after  40000 iteration is :  0.5484407404044767\n",
            "cost after  60000 iteration is :  0.5419032705618393\n",
            "cost after  80000 iteration is :  0.5390738576307932\n",
            "cost after  100000 iteration is :  0.537515390312053\n",
            "cost after  120000 iteration is :  0.5364573151281764\n",
            "cost after  140000 iteration is :  0.5356275544958932\n",
            "cost after  160000 iteration is :  0.5349214335635665\n",
            "cost after  180000 iteration is :  0.534295019282944\n"
          ]
        }
      ]
    },
    {
      "cell_type": "code",
      "source": [
        "def accuracy(X, Y, W, B):\n",
        "       \n",
        "    Z = np.dot(W.T, X) + B\n",
        "    A = sigmoid(Z)    \n",
        "\n",
        "    A = A > 0.5  # A is in boolean \n",
        "    \n",
        "    A = np.array(A, dtype = 'int64')   # converting into integer\n",
        "    \n",
        "    total_observations = Y.shape[1]\n",
        "    acc = (1 - np.sum(np.absolute(A - Y))/total_observations)*100\n",
        "    \n",
        "    print(\"model accuracy is : \", acc , \"%\")\n",
        "\n",
        "\n",
        "\n",
        "# Calculating the accuracy of the model on the test data set\n",
        "accuracy(test_X, test_Y, W, B)"
      ],
      "metadata": {
        "colab": {
          "base_uri": "https://localhost:8080/"
        },
        "id": "FtUpgkZR25Pu",
        "outputId": "ba26cfb3-2a32-4c5a-b81c-6c72ce617ec7"
      },
      "execution_count": 13,
      "outputs": [
        {
          "output_type": "stream",
          "name": "stdout",
          "text": [
            "model accuracy is :  76.10062893081762 %\n"
          ]
        }
      ]
    },
    {
      "cell_type": "code",
      "source": [
        "plt.plot(np.arange(n_iterations), cost_list)\n",
        "plt.show()\n",
        "\n",
        "# 200000,0.0015 --- 76.64, 0.53"
      ],
      "metadata": {
        "colab": {
          "base_uri": "https://localhost:8080/",
          "height": 268
        },
        "id": "SgLKfJEF26FR",
        "outputId": "a96f7b84-fc0d-4c7a-a804-215bc4b6c871"
      },
      "execution_count": 14,
      "outputs": [
        {
          "output_type": "display_data",
          "data": {
            "text/plain": [
              "<Figure size 432x288 with 1 Axes>"
            ],
            "image/png": "[encoded data removed]"
          },
          "metadata": {
            "needs_background": "light"
          }
        }
      ]
    }
  ]
}